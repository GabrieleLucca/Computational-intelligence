{
 "cells": [
  {
   "cell_type": "markdown",
   "id": "185f9931-b384-4fdc-a5b2-eea785428bb8",
   "metadata": {},
   "source": [
    "Copyright **`(c)`** 2023 Giovanni Squillero `<giovanni.squillero@polito.it>`  \n",
    "[`https://github.com/squillero/computational-intelligence`](https://github.com/squillero/computational-intelligence)  \n",
    "Free for personal or classroom use; see [`LICENSE.md`](https://github.com/squillero/computational-intelligence/blob/master/LICENSE.md) for details.  "
   ]
  },
  {
   "cell_type": "code",
   "execution_count": 27,
   "id": "3ffe7245-e849-41d0-9698-5f0e0b83fee9",
   "metadata": {},
   "outputs": [],
   "source": [
    "from itertools import product\n",
    "from random import random, randint, seed\n",
    "import numpy as np\n",
    "from scipy import sparse\n",
    "from copy import  copy\n",
    "from functools import reduce"
   ]
  },
  {
   "cell_type": "code",
   "execution_count": 28,
   "id": "6f03bd67-78a0-4d72-95b7-77a918727b91",
   "metadata": {},
   "outputs": [],
   "source": [
    "def make_set_covering_problem(num_points, num_sets, density):\n",
    "    \"\"\"Returns a sparse array where rows are sets and columns are the covered items\"\"\"\n",
    "    seed(num_points*2654435761+num_sets+density)\n",
    "    sets = sparse.lil_array((num_sets, num_points), dtype=bool)\n",
    "    for s, p in product(range(num_sets), range(num_points)):\n",
    "        if random() < density:\n",
    "            sets[s, p] = True\n",
    "    for p in range(num_points):\n",
    "        sets[randint(0, num_sets-1), p] = True\n",
    "    return sets"
   ]
  },
  {
   "cell_type": "markdown",
   "id": "82b0be37-21d9-492d-9a1d-cf0cdf0ddd76",
   "metadata": {},
   "source": [
    "# Halloween Challenge\n",
    "\n",
    "Find the best solution with the fewest calls to the fitness functions for:\n",
    "\n",
    "* `num_points = [100, 1_000, 5_000]`\n",
    "* `num_sets = num_points`\n",
    "* `density = [.3, .7]` "
   ]
  },
  {
   "cell_type": "code",
   "execution_count": 29,
   "id": "2d04f693",
   "metadata": {},
   "outputs": [],
   "source": [
    "PROBLEM_SIZE = [100, 1_000, 5_000]\n",
    "DENSITY = [0.3, 0.7]\n",
    "PROBABILITY = [0.01]"
   ]
  },
  {
   "cell_type": "code",
   "execution_count": 30,
   "id": "6492337b-8429-472d-9c3e-c79c5b46da54",
   "metadata": {},
   "outputs": [],
   "source": [
    "def fitness(sets, state):\n",
    "    num_true = np.sum(np.sum(sets[state], axis=0) > 0)\n",
    "    cost = -sum(state)\n",
    "    return num_true, cost"
   ]
  },
  {
   "cell_type": "code",
   "execution_count": 31,
   "id": "11f6b80e",
   "metadata": {},
   "outputs": [],
   "source": [
    "def generate_initial_state(prob, problem_size):\n",
    "    return [True if random() < prob else False for _ in range(problem_size)]"
   ]
  },
  {
   "cell_type": "code",
   "execution_count": null,
   "id": "7906b977",
   "metadata": {},
   "outputs": [],
   "source": [
    "problems = []\n",
    "for idx_prob, p in enumerate(PROBLEM_SIZE):\n",
    "    for d in DENSITY:\n",
    "        # initial_state = generate_initial_state(idx_prob, p)\n",
    "        initial_state = [False for _ in range(p)]\n",
    "        sets = make_set_covering_problem(p, p, d)\n",
    "        assert fitness([True for _ in range(p)], sets)[0] == p, \"Problem not solvable\"\n",
    "        problems.append((sets, initial_state, (p, d)))"
   ]
  },
  {
   "cell_type": "code",
   "execution_count": null,
   "id": "42309040",
   "metadata": {},
   "outputs": [],
   "source": [
    "def tweak(state, size):\n",
    "    new_state = copy(state)\n",
    "    index = randint(0, size - 1)\n",
    "    new_state[index] = not state[index]\n",
    "    return new_state"
   ]
  },
  {
   "cell_type": "markdown",
   "id": "b494b1df",
   "metadata": {},
   "source": [
    "# Standard Hill Climbing"
   ]
  },
  {
   "cell_type": "code",
   "execution_count": null,
   "id": "77eb577a",
   "metadata": {},
   "outputs": [],
   "source": [
    "def SHC(sets, problem_size, state, max_iteration, limit):\n",
    "    no_improvment_count = 0\n",
    "    goodness = fitness(state, sets)\n",
    "    evaluations = max_iteration + 1\n",
    "    for i in range(max_iteration):\n",
    "        if no_improvment_count == limit:\n",
    "            evaluations = i + 1\n",
    "            break\n",
    "        new_state = tweak(state, problem_size)\n",
    "        goodness_new_state = fitness(new_state, sets)\n",
    "        if goodness_new_state > goodness:\n",
    "            state = new_state\n",
    "            goodness = goodness_new_state\n",
    "            no_improvment_count = 0\n",
    "        no_improvment_count += 1\n",
    "    return state, goodness, evaluations"
   ]
  },
  {
   "cell_type": "code",
   "execution_count": null,
   "id": "30b5ec22",
   "metadata": {},
   "outputs": [],
   "source": [
    "max_iteration = 100_000\n",
    "limit = 50\n",
    "for sets, initial_state, (p, d) in problems:\n",
    "    solution_state, goodness, evaluations = SHC(sets, p, initial_state, max_iteration, limit)\n",
    "    print(\n",
    "        f\"Random Mutation Hill Climbing:\\nDensity: {d}\\nProblem size: {p}\\nNumber of calls to fitness function: {evaluations:,}\\nGoodness: {goodness}\\n\"\n",
    "    )"
   ]
  },
  {
   "cell_type": "markdown",
   "id": "b1e73367",
   "metadata": {},
   "source": [
    "# Simulated Annealing Hill Climbing (SAHC)"
   ]
  },
  {
   "cell_type": "code",
   "execution_count": null,
   "id": "d9175801",
   "metadata": {},
   "outputs": [],
   "source": [
    "def SAHC(sets, problem_size, state, max_iteration, limit):\n",
    "    no_improvment_count = 0\n",
    "    goodness = fitness(state, sets)\n",
    "    evaluations = max_iteration + 1\n",
    "    for i in range(max_iteration):\n",
    "        t = 1 - ((i + 1) / max_iteration)\n",
    "        if t == 0 or no_improvment_count == limit:\n",
    "            evaluations = i + 1\n",
    "            break\n",
    "        new_state = tweak(state, problem_size)\n",
    "        goodness_new_state = fitness(new_state, sets)\n",
    "        if goodness_new_state >= goodness or random() < (np.exp(-(goodness[1] - goodness_new_state[1])) / t):\n",
    "            state = new_state\n",
    "            goodness = goodness_new_state\n",
    "            no_improvment_count = 0\n",
    "        no_improvment_count += 1\n",
    "\n",
    "    return state, goodness, evaluations"
   ]
  },
  {
   "cell_type": "code",
   "execution_count": null,
   "id": "9a36ff1b",
   "metadata": {},
   "outputs": [],
   "source": [
    "max_iteration = 5_000\n",
    "limit = 50\n",
    "for sets, initial_state, (p, d) in problems:\n",
    "    solution_state, goodness, evaluations = SAHC(sets, p, initial_state, max_iteration, limit)\n",
    "    print(\n",
    "        f\"Simulated Annealing:\\nDensity: {d}\\nProblem size: {p}\\nNumber of calls to fitness function: {evaluations:,}\\nGoodness: {goodness}\\n\"\n",
    "    )"
   ]
  }
 ],
 "metadata": {
  "kernelspec": {
   "display_name": "Python 3 (ipykernel)",
   "language": "python",
   "name": "python3"
  },
  "language_info": {
   "codemirror_mode": {
    "name": "ipython",
    "version": 3
   },
   "file_extension": ".py",
   "mimetype": "text/x-python",
   "name": "python",
   "nbconvert_exporter": "python",
   "pygments_lexer": "ipython3",
   "version": "3.9.7"
  }
 },
 "nbformat": 4,
 "nbformat_minor": 5
}
